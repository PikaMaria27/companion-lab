{
 "cells": [
  {
   "cell_type": "code",
   "execution_count": 2,
   "id": "225a4a4d-f247-4a2b-8ba0-84d04eb7ff8e",
   "metadata": {},
   "outputs": [
    {
     "ename": "ModuleNotFoundError",
     "evalue": "No module named 'tools'",
     "output_type": "error",
     "traceback": [
      "\u001b[1;31m---------------------------------------------------------------------------\u001b[0m",
      "\u001b[1;31mModuleNotFoundError\u001b[0m                       Traceback (most recent call last)",
      "Cell \u001b[1;32mIn[2], line 1\u001b[0m\n\u001b[1;32m----> 1\u001b[0m \u001b[38;5;28;01mfrom\u001b[39;00m \u001b[38;5;21;01mtools\u001b[39;00m\u001b[38;5;21;01m.\u001b[39;00m\u001b[38;5;21;01mvenn\u001b[39;00m \u001b[38;5;28;01mimport\u001b[39;00m A, B, omega, plot_venn\n\u001b[0;32m      3\u001b[0m \u001b[38;5;66;03m# First law\u001b[39;00m\n\u001b[0;32m      4\u001b[0m AB_union \u001b[38;5;241m=\u001b[39m A \u001b[38;5;241m|\u001b[39m B\n",
      "\u001b[1;31mModuleNotFoundError\u001b[0m: No module named 'tools'"
     ]
    }
   ],
   "source": [
    "from tools.venn import A, B, omega, plot_venn\n",
    "\n",
    "# First law\n",
    "AB_union = A | B\n",
    "neg_AB_union = omega - AB_union\n",
    "\n",
    "negA = omega - A\n",
    "negB = omega - B\n",
    "negA_negB_intersection = negA & negB\n",
    "\n",
    "plot_venn(neg_AB_union)\n",
    "plot_venn(negA_negB_intersection)\n",
    "# to observe that the resulting diagrams are the same\n",
    "\n",
    "# Second law\n",
    "AB_intersection = A & B\n",
    "neg_AB_intersection = omega - AB_intersection\n",
    "\n",
    "negA_negB_union = negA | negB\n",
    "\n",
    "plot_venn(neg_AB_intersection)\n",
    "plot_venn(negA_negB_union)"
   ]
  },
  {
   "cell_type": "code",
   "execution_count": null,
   "id": "2427425f-58b2-4735-a2f1-597955fac870",
   "metadata": {},
   "outputs": [],
   "source": []
  }
 ],
 "metadata": {
  "kernelspec": {
   "display_name": "Python 3 (ipykernel)",
   "language": "python",
   "name": "python3"
  },
  "language_info": {
   "codemirror_mode": {
    "name": "ipython",
    "version": 3
   },
   "file_extension": ".py",
   "mimetype": "text/x-python",
   "name": "python",
   "nbconvert_exporter": "python",
   "pygments_lexer": "ipython3",
   "version": "3.9.6"
  }
 },
 "nbformat": 4,
 "nbformat_minor": 5
}
