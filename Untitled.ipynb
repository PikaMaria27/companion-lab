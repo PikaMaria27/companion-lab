{
 "cells": [
  {
   "cell_type": "code",
   "execution_count": 4,
   "id": "b20e7009-6b28-4831-8f8c-aab111245c66",
   "metadata": {},
   "outputs": [
    {
     "name": "stdout",
     "output_type": "stream",
     "text": [
      "0.4000000000000001\n",
      "0.6\n",
      "0.6\n",
      "0.24\n"
     ]
    }
   ],
   "source": [
    "from scipy.stats import bernoulli\n",
    "\n",
    "p = 0.6\n",
    "print(bernoulli.pmf(0,p)) # 1 - p\n",
    "print(bernoulli.pmf(1,p)) # p\n",
    "print(bernoulli.mean(p)) # p\n",
    "print(bernoulli.var(p)) # p * (1-p)"
   ]
  },
  {
   "cell_type": "code",
   "execution_count": 9,
   "id": "b0b22256-2a4c-4c41-88a1-007c81ea0e3e",
   "metadata": {},
   "outputs": [
    {
     "name": "stdout",
     "output_type": "stream",
     "text": [
      "[1]\n",
      "[[0.33333333 0.66666667]]\n"
     ]
    }
   ],
   "source": [
    "import pandas as pd\n",
    "from sklearn import tree, naive_bayes, neighbors\n",
    "\n",
    "features = ['A', 'B', 'C', 'Y']\n",
    "data = pd. DataFrame([\n",
    "    (0, 0, 0, 0),\n",
    "    (0, 0, 1, 0),\n",
    "    (0, 1, 0, 0),\n",
    "    (0, 1, 1, 0),\n",
    "    (1, 0, 0, 0),\n",
    "    (1, 0, 1, 1),\n",
    "    (1, 1, 0, 1)\n",
    "],\n",
    "columns=features)\n",
    "\n",
    "X = data[['A', 'B', 'C']]\n",
    "y = data['Y']\n",
    "\n",
    "# here \n",
    "# model = tree.DecisionTreeClassifier(criterion='entropy',max_depth=1) \n",
    "# model = naive_bayes.BernoulliNB(alpha=1)\n",
    "model = neighbors.KNeighborsClassifier(n_neighbors=3)\n",
    "# here\n",
    "model.fit(X,y)\n",
    "\n",
    "new_instance = pd.DataFrame([\n",
    "    (1, 1, 1)\n",
    "],\n",
    "columns=['A', 'B', 'C'])\n",
    "print(model.predict(new_instance))\n",
    "print(model.predict_proba(new_instance))"
   ]
  },
  {
   "cell_type": "code",
   "execution_count": 15,
   "id": "c077e675-e88a-4595-9c7d-b04d139ee875",
   "metadata": {},
   "outputs": [
    {
     "name": "stdout",
     "output_type": "stream",
     "text": [
      "IG(X1;y)=-0.02741011860920295\n",
      "IG(X2;y)=-0.03104129430236935\n",
      "0.375 0.625 0.4 0.6 0.3333333333333333 0.3333333333333333 0.5 0.5 0.25 0.75 0.625 0.375 0.5 0.5\n"
     ]
    }
   ],
   "source": [
    "import pandas as pd\n",
    "data = pd.DataFrame (\n",
    "    [\n",
    "        (0, 0, 1),\n",
    "        (0, 0, 1),\n",
    "        (1, 1, 1),\n",
    "        (0, 1, 0),\n",
    "        (1, 0, 0),\n",
    "        (0, 1, 0),\n",
    "        (0, 1, 0),\n",
    "        (1, 0, 0)\n",
    "    ], columns=[\"X1\", \"X2\", \"Y\"]\n",
    ")\n",
    "\n",
    "from scipy.stats import entropy\n",
    "\n",
    "def f_entropy(probs_or_counts):\n",
    "    return entropy(probs_or_counts, base=2)\n",
    "\n",
    "a=3/8\n",
    "b=5/8\n",
    "c=2/5\n",
    "d=3/5\n",
    "e=1/3\n",
    "f=1/3\n",
    "g=2/4\n",
    "h=2/4\n",
    "i=1/4\n",
    "j=3/4\n",
    "k=5/8\n",
    "l=3/8\n",
    "m=4/8\n",
    "n=4/8\n",
    "\n",
    "H_y = f_entropy([a, b])\n",
    "H_y_X1_0 = f_entropy([c, d])\n",
    "H_y_X1_1 = f_entropy([e, f])\n",
    "H_y_X2_0 = f_entropy([g, h])\n",
    "H_y_X2_1 = f_entropy([i, j])\n",
    "IG_X1_y = H_y - k*H_y_X1_0 - l*H_y_X1_1\n",
    "IG_X2_y = H_y - m*H_y_X1_0 - n*H_y_X1_1\n",
    "print(f\"IG(X1;y)={IG_X1_y}\")\n",
    "print(f\"IG(X2;y)={IG_X2_y}\")"
   ]
  },
  {
   "cell_type": "code",
   "execution_count": null,
   "id": "3627b605-2ed8-47a8-a644-f0475d6af394",
   "metadata": {},
   "outputs": [],
   "source": []
  }
 ],
 "metadata": {
  "kernelspec": {
   "display_name": "Python 3 (ipykernel)",
   "language": "python",
   "name": "python3"
  },
  "language_info": {
   "codemirror_mode": {
    "name": "ipython",
    "version": 3
   },
   "file_extension": ".py",
   "mimetype": "text/x-python",
   "name": "python",
   "nbconvert_exporter": "python",
   "pygments_lexer": "ipython3",
   "version": "3.9.6"
  },
  "widgets": {
   "application/vnd.jupyter.widget-state+json": {
    "state": {},
    "version_major": 2,
    "version_minor": 0
   }
  }
 },
 "nbformat": 4,
 "nbformat_minor": 5
}
